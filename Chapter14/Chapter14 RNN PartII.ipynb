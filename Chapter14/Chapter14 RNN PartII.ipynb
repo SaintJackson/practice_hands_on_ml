{
 "cells": [
  {
   "cell_type": "markdown",
   "metadata": {},
   "source": [
    "# Training a Sequence Classifier"
   ]
  },
  {
   "cell_type": "code",
   "execution_count": null,
   "metadata": {},
   "outputs": [],
   "source": [
    "from IPython.display import image\n"
   ]
  },
  {
   "cell_type": "code",
   "execution_count": 1,
   "metadata": {},
   "outputs": [],
   "source": [
    "import tensorflow as tf\n",
    "import numpy as np\n",
    "\n",
    "n_steps = 28\n",
    "n_inputs = 28\n",
    "n_neurons = 150\n",
    "n_outputs = 10\n",
    "\n",
    "# learning rate\n",
    "lr = 0.001\n",
    "\n",
    "X = tf.placeholder(tf.float32, [None, n_steps, n_inputs])\n",
    "y = tf.placeholder(tf.int32, [None])\n",
    "\n",
    "basic_cell = tf.contrib.rnn.BasicRNNCell(num_units=n_neurons)\n",
    "outputs, states = tf.nn.dynamic_rnn(basic_cell, X, dtype = tf.float32)\n",
    "\n",
    "logits = tf.layers.dense(states, n_outputs) # use tf.layers_dense instead of tf.layers_fully_connected\n",
    "xentropy = tf.nn.sparse_softmax_cross_entropy_with_logits(labels = y, logits = logits)\n",
    "\n",
    "loss = tf.reduce_mean(xentropy)\n",
    "optimizer = tf.train.AdamOptimizer(learning_rate = lr)\n",
    "training_op = optimizer.minimize(loss)\n",
    "correct = tf.nn.in_top_k(logits, y, 1)\n",
    "accuracy = tf.reduce_mean(tf.cast(correct, tf.float32))\n",
    "\n",
    "init = tf.global_variables_initializer()\n"
   ]
  },
  {
   "cell_type": "code",
   "execution_count": 2,
   "metadata": {},
   "outputs": [
    {
     "name": "stdout",
     "output_type": "stream",
     "text": [
      "WARNING:tensorflow:From <ipython-input-2-3a63a18ea153>:2: read_data_sets (from tensorflow.contrib.learn.python.learn.datasets.mnist) is deprecated and will be removed in a future version.\n",
      "Instructions for updating:\n",
      "Please use alternatives such as official/mnist/dataset.py from tensorflow/models.\n",
      "WARNING:tensorflow:From /Users/marenwen/env/lib/python3.6/site-packages/tensorflow/contrib/learn/python/learn/datasets/mnist.py:260: maybe_download (from tensorflow.contrib.learn.python.learn.datasets.base) is deprecated and will be removed in a future version.\n",
      "Instructions for updating:\n",
      "Please write your own downloading logic.\n",
      "WARNING:tensorflow:From /Users/marenwen/env/lib/python3.6/site-packages/tensorflow/contrib/learn/python/learn/datasets/mnist.py:262: extract_images (from tensorflow.contrib.learn.python.learn.datasets.mnist) is deprecated and will be removed in a future version.\n",
      "Instructions for updating:\n",
      "Please use tf.data to implement this functionality.\n",
      "Extracting data/train-images-idx3-ubyte.gz\n",
      "WARNING:tensorflow:From /Users/marenwen/env/lib/python3.6/site-packages/tensorflow/contrib/learn/python/learn/datasets/mnist.py:267: extract_labels (from tensorflow.contrib.learn.python.learn.datasets.mnist) is deprecated and will be removed in a future version.\n",
      "Instructions for updating:\n",
      "Please use tf.data to implement this functionality.\n",
      "Extracting data/train-labels-idx1-ubyte.gz\n",
      "Extracting data/t10k-images-idx3-ubyte.gz\n",
      "Extracting data/t10k-labels-idx1-ubyte.gz\n",
      "WARNING:tensorflow:From /Users/marenwen/env/lib/python3.6/site-packages/tensorflow/contrib/learn/python/learn/datasets/mnist.py:290: DataSet.__init__ (from tensorflow.contrib.learn.python.learn.datasets.mnist) is deprecated and will be removed in a future version.\n",
      "Instructions for updating:\n",
      "Please use alternatives such as official/mnist/dataset.py from tensorflow/models.\n"
     ]
    }
   ],
   "source": [
    "from tensorflow.examples.tutorials.mnist import input_data\n",
    "mnist = input_data.read_data_sets('data')\n",
    "X_test = mnist.test.images.reshape(-1, n_steps, n_inputs)\n",
    "y_test = mnist.test.labels"
   ]
  },
  {
   "cell_type": "code",
   "execution_count": 3,
   "metadata": {},
   "outputs": [
    {
     "name": "stdout",
     "output_type": "stream",
     "text": [
      "0 Train accuracy:  0.97 Test accuracy:  0.9127\n",
      "1 Train accuracy:  0.97 Test accuracy:  0.9541\n",
      "2 Train accuracy:  0.99 Test accuracy:  0.954\n",
      "3 Train accuracy:  0.99 Test accuracy:  0.9638\n",
      "4 Train accuracy:  0.96 Test accuracy:  0.9557\n",
      "5 Train accuracy:  0.96 Test accuracy:  0.9659\n",
      "6 Train accuracy:  0.99 Test accuracy:  0.9712\n",
      "7 Train accuracy:  0.97 Test accuracy:  0.9672\n",
      "8 Train accuracy:  0.98 Test accuracy:  0.9693\n",
      "9 Train accuracy:  1.0 Test accuracy:  0.9716\n",
      "10 Train accuracy:  0.97 Test accuracy:  0.9723\n",
      "11 Train accuracy:  0.98 Test accuracy:  0.9723\n",
      "12 Train accuracy:  0.98 Test accuracy:  0.9715\n",
      "13 Train accuracy:  1.0 Test accuracy:  0.9727\n",
      "14 Train accuracy:  0.99 Test accuracy:  0.9699\n",
      "15 Train accuracy:  1.0 Test accuracy:  0.9737\n",
      "16 Train accuracy:  0.96 Test accuracy:  0.968\n",
      "17 Train accuracy:  0.99 Test accuracy:  0.9766\n",
      "18 Train accuracy:  0.98 Test accuracy:  0.9738\n",
      "19 Train accuracy:  0.99 Test accuracy:  0.9746\n",
      "20 Train accuracy:  1.0 Test accuracy:  0.9711\n",
      "21 Train accuracy:  0.99 Test accuracy:  0.9758\n",
      "22 Train accuracy:  0.98 Test accuracy:  0.9696\n",
      "23 Train accuracy:  1.0 Test accuracy:  0.9677\n",
      "24 Train accuracy:  0.99 Test accuracy:  0.9735\n",
      "25 Train accuracy:  0.98 Test accuracy:  0.9763\n",
      "26 Train accuracy:  0.98 Test accuracy:  0.9729\n",
      "27 Train accuracy:  1.0 Test accuracy:  0.9771\n",
      "28 Train accuracy:  0.96 Test accuracy:  0.9736\n",
      "29 Train accuracy:  1.0 Test accuracy:  0.9765\n"
     ]
    }
   ],
   "source": [
    "n_epoches = 30\n",
    "batch_size = 100\n",
    "\n",
    "with tf.Session() as sess:\n",
    "    init.run()\n",
    "    for epoch in range(n_epoches):\n",
    "        for iteration in range(mnist.train.num_examples // batch_size):\n",
    "            X_batch, y_batch = mnist.train.next_batch(batch_size)\n",
    "            X_batch = X_batch.reshape((-1, n_steps, n_inputs))\n",
    "            sess.run(training_op, feed_dict = {X: X_batch, y: y_batch})\n",
    "        acc_train = accuracy.eval(feed_dict = {X: X_batch, y:y_batch})\n",
    "        acc_test = accuracy.eval(feed_dict = {X: X_test, y: y_test})\n",
    "            \n",
    "        print(epoch, \"Train accuracy: \", acc_train, \"Test accuracy: \", acc_test)\n",
    "            "
   ]
  },
  {
   "cell_type": "markdown",
   "metadata": {},
   "source": [
    "# MultiLayer RNN （Deep RNN）"
   ]
  },
  {
   "cell_type": "code",
   "execution_count": 1,
   "metadata": {},
   "outputs": [],
   "source": [
    "import tensorflow as tf\n",
    "from tensorflow.contrib.layers import fully_connected # 求解释，为什么RNN要用到全连接层\n",
    "n_steps = 28\n",
    "n_inputs = 28\n",
    "n_neurons1 = 150\n",
    "n_neurons2 = 100\n",
    "n_outputs = 10\n",
    "\n",
    "lr = 0.001\n",
    "\n",
    "X = tf.placeholder(tf.float32, [None, n_steps, n_inputs])\n",
    "y = tf.placeholder(tf.int32, [None])\n",
    "\n",
    "hidden1 = tf.contrib.rnn.BasicRNNCell(num_units=n_neurons1, activation=tf.nn.relu)\n",
    "hidden2 = tf.contrib.rnn.BasicRNNCell(num_units=n_neurons2, activation=tf.nn.relu)\n",
    "multi_layer_cell = tf.contrib.rnn.MultiRNNCell([hidden1, hidden2])\n",
    "outputs, states_tuple = tf.nn.dynamic_rnn(multi_layer_cell, X, dtype = tf.float32)\n",
    "states = tf.concat(axis = 1, values=states_tuple)\n",
    "logits = fully_connected(states, n_outputs, activation_fn=None)\n",
    "xentropy = tf.nn.sparse_softmax_cross_entropy_with_logits(labels=y, logits=logits)\n",
    "\n",
    "loss = tf.reduce_mean(xentropy)\n",
    "optimizer = tf.train.AdamOptimizer(learning_rate=lr)\n",
    "training_op = optimizer.minimize(loss)\n",
    "correct = tf.nn.in_top_k(logits, y, 1)\n",
    "accuracy = tf.reduce_mean(tf.cast(correct, tf.float32))\n",
    "\n",
    "init = tf.global_variables_initializer()\n"
   ]
  },
  {
   "cell_type": "code",
   "execution_count": 2,
   "metadata": {},
   "outputs": [
    {
     "name": "stdout",
     "output_type": "stream",
     "text": [
      "WARNING:tensorflow:From <ipython-input-2-a5981affd56d>:5: read_data_sets (from tensorflow.contrib.learn.python.learn.datasets.mnist) is deprecated and will be removed in a future version.\n",
      "Instructions for updating:\n",
      "Please use alternatives such as official/mnist/dataset.py from tensorflow/models.\n",
      "WARNING:tensorflow:From /Users/marenwen/env/lib/python3.6/site-packages/tensorflow/contrib/learn/python/learn/datasets/mnist.py:260: maybe_download (from tensorflow.contrib.learn.python.learn.datasets.base) is deprecated and will be removed in a future version.\n",
      "Instructions for updating:\n",
      "Please write your own downloading logic.\n",
      "WARNING:tensorflow:From /Users/marenwen/env/lib/python3.6/site-packages/tensorflow/contrib/learn/python/learn/datasets/mnist.py:262: extract_images (from tensorflow.contrib.learn.python.learn.datasets.mnist) is deprecated and will be removed in a future version.\n",
      "Instructions for updating:\n",
      "Please use tf.data to implement this functionality.\n",
      "Extracting data/train-images-idx3-ubyte.gz\n",
      "WARNING:tensorflow:From /Users/marenwen/env/lib/python3.6/site-packages/tensorflow/contrib/learn/python/learn/datasets/mnist.py:267: extract_labels (from tensorflow.contrib.learn.python.learn.datasets.mnist) is deprecated and will be removed in a future version.\n",
      "Instructions for updating:\n",
      "Please use tf.data to implement this functionality.\n",
      "Extracting data/train-labels-idx1-ubyte.gz\n",
      "Extracting data/t10k-images-idx3-ubyte.gz\n",
      "Extracting data/t10k-labels-idx1-ubyte.gz\n",
      "WARNING:tensorflow:From /Users/marenwen/env/lib/python3.6/site-packages/tensorflow/contrib/learn/python/learn/datasets/mnist.py:290: DataSet.__init__ (from tensorflow.contrib.learn.python.learn.datasets.mnist) is deprecated and will be removed in a future version.\n",
      "Instructions for updating:\n",
      "Please use alternatives such as official/mnist/dataset.py from tensorflow/models.\n",
      "0 Train accuracy:  0.9533333 Test accuracy:  0.929\n",
      "1 Train accuracy:  0.9533333 Test accuracy:  0.9512\n",
      "2 Train accuracy:  0.97333336 Test accuracy:  0.9588\n",
      "3 Train accuracy:  0.94666666 Test accuracy:  0.9645\n",
      "4 Train accuracy:  0.96 Test accuracy:  0.9691\n",
      "5 Train accuracy:  1.0 Test accuracy:  0.9746\n",
      "6 Train accuracy:  0.99333334 Test accuracy:  0.9724\n",
      "7 Train accuracy:  0.98 Test accuracy:  0.9744\n",
      "8 Train accuracy:  0.98 Test accuracy:  0.9767\n",
      "9 Train accuracy:  1.0 Test accuracy:  0.9777\n",
      "10 Train accuracy:  0.98 Test accuracy:  0.9787\n",
      "11 Train accuracy:  0.9866667 Test accuracy:  0.9797\n",
      "12 Train accuracy:  0.99333334 Test accuracy:  0.9804\n",
      "13 Train accuracy:  0.9866667 Test accuracy:  0.979\n",
      "14 Train accuracy:  0.9866667 Test accuracy:  0.9815\n",
      "15 Train accuracy:  0.99333334 Test accuracy:  0.9828\n",
      "16 Train accuracy:  0.99333334 Test accuracy:  0.9833\n",
      "17 Train accuracy:  0.98 Test accuracy:  0.9765\n",
      "18 Train accuracy:  0.99333334 Test accuracy:  0.9764\n",
      "19 Train accuracy:  1.0 Test accuracy:  0.9833\n",
      "20 Train accuracy:  0.99333334 Test accuracy:  0.9817\n",
      "21 Train accuracy:  0.9866667 Test accuracy:  0.983\n",
      "22 Train accuracy:  0.97333336 Test accuracy:  0.9682\n",
      "23 Train accuracy:  0.98 Test accuracy:  0.9828\n",
      "24 Train accuracy:  0.98 Test accuracy:  0.9753\n",
      "25 Train accuracy:  1.0 Test accuracy:  0.9835\n",
      "26 Train accuracy:  0.99333334 Test accuracy:  0.9824\n",
      "27 Train accuracy:  1.0 Test accuracy:  0.9839\n",
      "28 Train accuracy:  0.99333334 Test accuracy:  0.9802\n",
      "29 Train accuracy:  0.98 Test accuracy:  0.9831\n"
     ]
    }
   ],
   "source": [
    "n_epoches = 30\n",
    "batch_size = 150\n",
    "\n",
    "from tensorflow.examples.tutorials.mnist import input_data\n",
    "mnist = input_data.read_data_sets('data')\n",
    "X_test = mnist.test.images.reshape(-1, n_steps, n_inputs)\n",
    "y_test = mnist.test.labels\n",
    "\n",
    "with tf.Session() as sess:\n",
    "    init.run()\n",
    "    for epoch in range(n_epoches):\n",
    "        for iteration in range(mnist.train.num_examples // batch_size):\n",
    "            X_batch, y_batch = mnist.train.next_batch(batch_size)\n",
    "            X_batch = X_batch.reshape(-1, n_steps, n_inputs)\n",
    "            sess.run(training_op, feed_dict = {X:X_batch, y:y_batch})\n",
    "        acc_train = accuracy.eval(feed_dict = {X:X_batch, y:y_batch})\n",
    "        acc_test = accuracy.eval(feed_dict = {X:X_test, y: y_test})\n",
    "        \n",
    "        print(epoch, \"Train accuracy: \", acc_train, \"Test accuracy: \", acc_test)"
   ]
  },
  {
   "cell_type": "markdown",
   "metadata": {},
   "source": [
    "# Coming soon...\n",
    ">> Deep RNN in Time Series (multiple layer);  \n",
    ">> Apply drop_out layers;  \n",
    ">> multi-layer LSTM in Deep RNN;  \n",
    "\n"
   ]
  },
  {
   "cell_type": "code",
   "execution_count": null,
   "metadata": {},
   "outputs": [],
   "source": []
  },
  {
   "cell_type": "code",
   "execution_count": null,
   "metadata": {},
   "outputs": [],
   "source": []
  },
  {
   "cell_type": "code",
   "execution_count": null,
   "metadata": {},
   "outputs": [],
   "source": []
  }
 ],
 "metadata": {
  "kernelspec": {
   "display_name": "Python 3",
   "language": "python",
   "name": "python3"
  },
  "language_info": {
   "codemirror_mode": {
    "name": "ipython",
    "version": 3
   },
   "file_extension": ".py",
   "mimetype": "text/x-python",
   "name": "python",
   "nbconvert_exporter": "python",
   "pygments_lexer": "ipython3",
   "version": "3.6.5"
  }
 },
 "nbformat": 4,
 "nbformat_minor": 2
}
