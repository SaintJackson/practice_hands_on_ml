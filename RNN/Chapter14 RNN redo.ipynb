{
 "cells": [
  {
   "cell_type": "code",
   "execution_count": 1,
   "metadata": {},
   "outputs": [
    {
     "name": "stdout",
     "output_type": "stream",
     "text": [
      "[[[ 0.85253745 -0.8635251  -0.8635848   0.85458994  0.18037374]\n",
      "  [ 0.9651979  -0.9999984  -0.9994116   0.9999966   0.9999922 ]]\n",
      "\n",
      " [[ 0.98725057 -0.9993861  -0.995211    0.99890435  0.968388  ]\n",
      "  [-0.59401023 -0.15162963  0.14211236  0.7379825   0.36245817]]\n",
      "\n",
      " [[ 0.9989663  -0.9999977  -0.99984264  0.99999243  0.9992574 ]\n",
      "  [ 0.51020414 -0.99964994 -0.95994073  0.9998197   0.9992633 ]]\n",
      "\n",
      " [[-0.99981165  0.09574474  0.99207497  0.01269183  0.9952386 ]\n",
      "  [ 0.09294475 -0.9053012  -0.33951876  0.79274285  0.04489781]]]\n"
     ]
    }
   ],
   "source": [
    "import pandas as pd\n",
    "import tensorflow as tf\n",
    "import numpy as np\n",
    "import matplotlib.pyplot as plt\n",
    "\n",
    "# 时间上的动态展开\n",
    "n_steps = 2\n",
    "n_inputs = 3\n",
    "n_neurons = 5\n",
    "\n",
    "X = tf.placeholder(tf.float32, shape=[None, n_steps, n_inputs])\n",
    "basic_cell = tf.contrib.rnn.BasicRNNCell(num_units=n_neurons)\n",
    "outputs, states = tf.nn.dynamic_rnn(basic_cell, X, dtype = tf.float32)\n",
    "init = tf.global_variables_initializer()\n",
    "\n",
    "X_batch = np.array([\n",
    "                   # t = 0    t = 1\n",
    "                    [[0, 1, 2], [9, 8, 7]],  # instance 1\n",
    "                    [[3, 4, 5], [0, 0, 0]],  # instance 2\n",
    "                    [[6, 7, 8], [6, 5, 4]],  # instance 3\n",
    "                    [[9, 0, 1], [3, 2, 1]],  # instance 4\n",
    "                   ])\n",
    "\n",
    "with tf.Session() as sess:\n",
    "    init.run()\n",
    "    outputs_val = outputs.eval(feed_dict={X:X_batch})\n",
    "print(outputs_val)\n",
    "\n",
    "\n"
   ]
  },
  {
   "cell_type": "code",
   "execution_count": null,
   "metadata": {},
   "outputs": [],
   "source": []
  }
 ],
 "metadata": {
  "kernelspec": {
   "display_name": "Python 3",
   "language": "python",
   "name": "python3"
  },
  "language_info": {
   "codemirror_mode": {
    "name": "ipython",
    "version": 3
   },
   "file_extension": ".py",
   "mimetype": "text/x-python",
   "name": "python",
   "nbconvert_exporter": "python",
   "pygments_lexer": "ipython3",
   "version": "3.6.5"
  }
 },
 "nbformat": 4,
 "nbformat_minor": 2
}
